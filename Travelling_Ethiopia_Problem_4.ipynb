{
  "cells": [
    {
      "cell_type": "code",
      "execution_count": 2,
      "metadata": {
        "id": "cNGuaiy4-oTV"
      },
      "outputs": [],
      "source": [
        "import sys\n",
        "\n",
        "class Node:\n",
        "    def __init__(self, name, utility, adversary=False):\n",
        "        self.name = name\n",
        "        self.utility = utility\n",
        "        self.adversary = adversary\n",
        "        self.children = []\n",
        "\n",
        "    def add_child(self, child):\n",
        "        self.children.append(child)\n",
        "class TravelingEthiopiaGame:\n",
        "    def __init__(self):\n",
        "        self.root = self.create_game_tree()\n",
        "\n",
        "    def create_game_tree(self):\n",
        "        # Create the game tree nodes\n",
        "        gedo = Node(\"Gedo\", 0)\n",
        "        adama = Node(\"Adama\", 0)\n",
        "        buta_dira = Node(\"Buta Dira\", 2)\n",
        "        wolkite = Node(\"Wolkite\", 2)\n",
        "        mojo = Node(\"Mojo\", 5)\n",
        "        diredawa = Node(\"Diredawa\", 7)\n",
        "        kaffa = Node(\"Kaffa\", 7)\n",
        "        chiro = Node(\"Chiro\", 6)\n",
        "        dilla = Node(\"Dilla\", 9)\n",
        "        harar = Node(\"Harar\", 10, adversary=True)\n",
        "\n",
        "        # Add children to the nodes\n",
        "        gedo.add_child(adama)\n",
        "        gedo.add_child(buta_dira)\n",
        "        gedo.add_child(wolkite)\n",
        "        adama.add_child(mojo)\n",
        "        adama.add_child(diredawa)\n",
        "        buta_dira.add_child(kaffa)\n",
        "        wolkite.add_child(chiro)\n",
        "        wolkite.add_child(dilla)\n",
        "        mojo.add_child(harar)\n",
        "\n",
        "        return gedo\n",
        "    def minimax(self, node, depth, is_maximizing_player):\n",
        "        if depth == 0 or not node.children:\n",
        "            return node.utility\n",
        "\n",
        "        if is_maximizing_player:\n",
        "            max_utility = -sys.maxsize - 1\n",
        "            for child in node.children:\n",
        "                utility = self.minimax(child, depth - 1, False)\n",
        "                max_utility = max(max_utility, utility)\n",
        "            return max_utility\n",
        "        else:\n",
        "            min_utility = sys.maxsize\n",
        "            for child in node.children:\n",
        "                utility = self.minimax(child, depth - 1, True)\n",
        "                min_utility = min(min_utility, utility)\n",
        "            return min_utility\n",
        "\n",
        "\n"
      ]
    },
    {
      "cell_type": "code",
      "execution_count": null,
      "metadata": {},
      "outputs": [],
      "source": []
    }
  ],
  "metadata": {
    "colab": {
      "authorship_tag": "ABX9TyNlYoueKZNFxL8TkrTy6P0R",
      "provenance": []
    },
    "kernelspec": {
      "display_name": "Python 3",
      "name": "python3"
    },
    "language_info": {
      "codemirror_mode": {
        "name": "ipython",
        "version": 3
      },
      "file_extension": ".py",
      "mimetype": "text/x-python",
      "name": "python",
      "nbconvert_exporter": "python",
      "pygments_lexer": "ipython3",
      "version": "3.9.6"
    }
  },
  "nbformat": 4,
  "nbformat_minor": 0
}
