{
  "cells": [
    {
      "cell_type": "code",
      "execution_count": 1,
      "metadata": {
        "id": "cNGuaiy4-oTV"
      },
      "outputs": [
        {
          "name": "stdout",
          "output_type": "stream",
          "text": [
            "Current node: Gedo\n",
            "Best move: Adama\n",
            "Current node: Adama\n",
            "Best move: Mojo\n",
            "Current node: Mojo\n",
            "Best move: Harar\n",
            "Final destination: Harar\n"
          ]
        }
      ],
      "source": [
        "import sys\n",
        "\n",
        "class Node:\n",
        "    def __init__(self, name, utility, adversary=False):\n",
        "        self.name = name\n",
        "        self.utility = utility\n",
        "        self.adversary = adversary\n",
        "        self.children = []\n",
        "\n",
        "    def add_child(self, child):\n",
        "        self.children.append(child)\n",
        "\n"
      ]
    }
  ],
  "metadata": {
    "colab": {
      "authorship_tag": "ABX9TyNlYoueKZNFxL8TkrTy6P0R",
      "provenance": []
    },
    "kernelspec": {
      "display_name": "Python 3",
      "name": "python3"
    },
    "language_info": {
      "codemirror_mode": {
        "name": "ipython",
        "version": 3
      },
      "file_extension": ".py",
      "mimetype": "text/x-python",
      "name": "python",
      "nbconvert_exporter": "python",
      "pygments_lexer": "ipython3",
      "version": "3.9.6"
    }
  },
  "nbformat": 4,
  "nbformat_minor": 0
}
